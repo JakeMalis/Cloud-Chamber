{
  "nbformat": 4,
  "nbformat_minor": 0,
  "metadata": {
    "colab": {
      "name": "Cloud Chamber GCS TPU.ipynb",
      "private_outputs": true,
      "provenance": [],
      "collapsed_sections": [],
      "machine_shape": "hm"
    },
    "kernelspec": {
      "display_name": "Python 3",
      "name": "python3"
    },
    "accelerator": "TPU"
  },
  "cells": [
    {
      "cell_type": "markdown",
      "metadata": {
        "id": "VHhEydzDytAi"
      },
      "source": [
        "# Download and install the TensorFlow Object Detection API"
      ]
    },
    {
      "cell_type": "code",
      "metadata": {
        "id": "xbkuAjhU-3e6"
      },
      "source": [
        "!git clone https://github.com/tensorflow/models.git"
      ],
      "execution_count": null,
      "outputs": []
    },
    {
      "cell_type": "code",
      "metadata": {
        "id": "ukzhAgID_gyP"
      },
      "source": [
        "%%capture\n",
        "%cd /content/models/research/\n",
        "!protoc object_detection/protos/*.proto --python_out=.\n",
        "!cp object_detection/packages/tf2/setup.py .\n",
        "!python -m pip install ."
      ],
      "execution_count": null,
      "outputs": []
    },
    {
      "cell_type": "markdown",
      "metadata": {
        "id": "lrBzrFt8zCeq"
      },
      "source": [
        "# Download dataset and pretrained model"
      ]
    },
    {
      "cell_type": "code",
      "metadata": {
        "id": "qBG_9zNwtBQd"
      },
      "source": [
        "%%bash\n",
        "cd /content\n",
        "\n",
        "curl -L \"https://app.roboflow.com/ds/26GgrZbYpY?key=RyDdQvRqNM\" > roboflow.zip; unzip roboflow.zip; rm roboflow.zip\n",
        "#curl -L \"https://public.roboflow.com/ds/pgTjFayqld?key=owB4ZaBW3N\" > roboflow.zip; unzip roboflow.zip; rm roboflow.zip"
      ],
      "execution_count": null,
      "outputs": []
    },
    {
      "cell_type": "code",
      "metadata": {
        "id": "ak2YWVlinDFS"
      },
      "source": [
        "annotation_group = \"trails\"\n",
        "#annotation_group = \"pieces\""
      ],
      "execution_count": null,
      "outputs": []
    },
    {
      "cell_type": "code",
      "metadata": {
        "id": "EJFQg9-RckM5"
      },
      "source": [
        "MODELS_CONFIG = {\n",
        "    'efficientdet-d0': {\n",
        "        'model_name': 'efficientdet_d0_coco17_tpu-32',\n",
        "        'base_pipeline_file': 'ssd_efficientdet_d0_512x512_coco17_tpu-8.config',\n",
        "        'pretrained_checkpoint': 'efficientdet_d0_coco17_tpu-32.tar.gz',\n",
        "        'batch_size': 16\n",
        "    },\n",
        "        'efficientdet-d6': {\n",
        "        'model_name': 'efficientdet_d6_coco17_tpu-32',\n",
        "        'base_pipeline_file': 'ssd_efficientdet_d6_1408x1408_coco17_tpu-32.config',\n",
        "        'pretrained_checkpoint': 'efficientdet_d6_coco17_tpu-32.tar.gz',\n",
        "        'batch_size': 16\n",
        "    },\n",
        "        'mobilenet-v2': {\n",
        "        'model_name': 'ssd_mobilenet_v2_320x320_coco17_tpu-8',\n",
        "        'base_pipeline_file': 'ssd_mobilenet_v2_320x320_coco17_tpu-8.config',\n",
        "        'pretrained_checkpoint': 'ssd_mobilenet_v2_320x320_coco17_tpu-8.tar.gz',\n",
        "        'batch_size': 16\n",
        "    }\n",
        "\n",
        "}\n",
        "\n",
        "chosen_model = 'mobilenet-v2'\n",
        "\n",
        "num_steps = 500 #The more steps, the longer the training. Increase if your loss function is still decreasing and validation metrics are increasing. \n",
        "num_eval_steps = 500 #Perform evaluation after so many steps\n",
        "\n",
        "model_name = MODELS_CONFIG[chosen_model]['model_name']\n",
        "pretrained_checkpoint = MODELS_CONFIG[chosen_model]['pretrained_checkpoint']\n",
        "base_pipeline_file = MODELS_CONFIG[chosen_model]['base_pipeline_file']\n",
        "batch_size = MODELS_CONFIG[chosen_model]['batch_size'] #if you can fit a large batch in memory, it may speed up your training "
      ],
      "execution_count": null,
      "outputs": []
    },
    {
      "cell_type": "code",
      "metadata": {
        "id": "iG4lQwnrcn6J"
      },
      "source": [
        "#download pretrained weights\n",
        "%mkdir /content/deploy\n",
        "%cd /content/deploy\n",
        "import tarfile\n",
        "download_tar = 'http://download.tensorflow.org/models/object_detection/tf2/20200711/' + pretrained_checkpoint\n",
        "\n",
        "!wget {download_tar}\n",
        "tar = tarfile.open(pretrained_checkpoint)\n",
        "tar.extractall()\n",
        "tar.close()"
      ],
      "execution_count": null,
      "outputs": []
    },
    {
      "cell_type": "code",
      "metadata": {
        "id": "6zRvdLDfRGA_"
      },
      "source": [
        "#download base training configuration file\n",
        "%cd /content/deploy\n",
        "download_config = 'https://raw.githubusercontent.com/tensorflow/models/master/research/object_detection/configs/tf2/' + base_pipeline_file\n",
        "!wget {download_config}"
      ],
      "execution_count": null,
      "outputs": []
    },
    {
      "cell_type": "markdown",
      "metadata": {
        "id": "0R449WaDhNSg"
      },
      "source": [
        "# Set up Google Cloud Storage Bucket"
      ]
    },
    {
      "cell_type": "code",
      "metadata": {
        "id": "HdM6kZbXy5-P"
      },
      "source": [
        "from google.colab import auth\n",
        "auth.authenticate_user()"
      ],
      "execution_count": null,
      "outputs": []
    },
    {
      "cell_type": "code",
      "metadata": {
        "id": "mLVR8fJNB2AD"
      },
      "source": [
        "!gcloud config set project cloud-chamber-research"
      ],
      "execution_count": null,
      "outputs": []
    },
    {
      "cell_type": "code",
      "metadata": {
        "id": "Yg1Kw6ujgzpJ"
      },
      "source": [
        "import uuid\n",
        "bucket = 'colab-cloud-chamber-' + str(uuid.uuid1())"
      ],
      "execution_count": null,
      "outputs": []
    },
    {
      "cell_type": "code",
      "metadata": {
        "id": "bKLAx5Bqg0iA"
      },
      "source": [
        "!gsutil mb gs://{bucket}"
      ],
      "execution_count": null,
      "outputs": []
    },
    {
      "cell_type": "markdown",
      "metadata": {
        "id": "waGt_Yc8zIqj"
      },
      "source": [
        "# Setup traning pipeline"
      ]
    },
    {
      "cell_type": "code",
      "metadata": {
        "id": "qIggm04Dcrke"
      },
      "source": [
        "pipeline_fname = '/content/deploy/' + base_pipeline_file\n",
        "\n",
        "def get_num_classes(pbtxt_fname):\n",
        "    from object_detection.utils import label_map_util\n",
        "    label_map = label_map_util.load_labelmap(pbtxt_fname)\n",
        "    categories = label_map_util.convert_label_map_to_categories(\n",
        "        label_map, max_num_classes=90, use_display_name=True)\n",
        "    category_index = label_map_util.create_category_index(categories)\n",
        "    return len(category_index.keys())\n",
        "num_classes = get_num_classes('/content/train/' + annotation_group + '_label_map.pbtxt')"
      ],
      "execution_count": null,
      "outputs": []
    },
    {
      "cell_type": "code",
      "metadata": {
        "id": "5hTGpBs-m77A"
      },
      "source": [
        "train_record_path = 'gs://{0}/train/{1}.tfrecord'.format(bucket, annotation_group)\n",
        "test_record_path = 'gs://{0}/valid/{1}.tfrecord'.format(bucket, annotation_group)\n",
        "model_dir = 'gs://{0}/valid/training'.format(bucket)\n",
        "labelmap_path = 'gs://{0}/valid/{1}_label_map.pbtxt'.format(bucket, annotation_group)\n",
        "\n",
        "pipeline_config_path = 'pipeline_file.config'\n",
        "fine_tune_checkpoint = 'gs://{0}/deploy/{1}/checkpoint/ckpt-0'.format(bucket, model_name)"
      ],
      "execution_count": null,
      "outputs": []
    },
    {
      "cell_type": "code",
      "metadata": {
        "id": "hH9pVN4qfbAb"
      },
      "source": [
        "import re\n",
        "\n",
        "%cd /content/deploy\n",
        "print('writing custom configuration file')\n",
        "\n",
        "with open(pipeline_fname) as f:\n",
        "    s = f.read()\n",
        "with open('pipeline_file.config', 'w') as f:\n",
        "    \n",
        "    # fine_tune_checkpoint\n",
        "    s = re.sub('fine_tune_checkpoint: \".*?\"',\n",
        "               'fine_tune_checkpoint: \"{}\"'.format(fine_tune_checkpoint), s)\n",
        "    \n",
        "    # tfrecord files train and test.\n",
        "    s = re.sub(\n",
        "        '(input_path: \".*?)(PATH_TO_BE_CONFIGURED/train)(.*?\")', 'input_path: \"{}\"'.format(train_record_path), s)\n",
        "    s = re.sub(\n",
        "        '(input_path: \".*?)(PATH_TO_BE_CONFIGURED/val)(.*?\")', 'input_path: \"{}\"'.format(test_record_path), s)\n",
        "\n",
        "    # label_map_path\n",
        "    s = re.sub(\n",
        "        'label_map_path: \".*?\"', 'label_map_path: \"{}\"'.format(labelmap_path), s)\n",
        "\n",
        "    # Set training batch_size.\n",
        "    s = re.sub('batch_size: [0-9]+',\n",
        "               'batch_size: {}'.format(batch_size), s)\n",
        "\n",
        "    # Set training steps, num_steps\n",
        "    s = re.sub('num_steps: [0-9]+',\n",
        "               'num_steps: {}'.format(num_steps), s)\n",
        "    \n",
        "    # Set number of classes num_classes.\n",
        "    s = re.sub('num_classes: [0-9]+',\n",
        "               'num_classes: {}'.format(num_classes), s)\n",
        "    \n",
        "    #fine-tune checkpoint type\n",
        "    s = re.sub(\n",
        "        'fine_tune_checkpoint_type: \"classification\"', 'fine_tune_checkpoint_type: \"{}\"'.format('detection'), s)\n",
        "        \n",
        "    f.write(s)"
      ],
      "execution_count": null,
      "outputs": []
    },
    {
      "cell_type": "code",
      "metadata": {
        "id": "Ok1JqwGweOW1"
      },
      "source": [
        "%cat /content/deploy/pipeline_file.config"
      ],
      "execution_count": null,
      "outputs": []
    },
    {
      "cell_type": "code",
      "metadata": {
        "id": "84m5WIwVxwvK"
      },
      "source": [
        "pipeline_file = 'gs://{0}/deploy/pipeline_file.config'.format(bucket)\n",
        "model_dir = 'gs://{0}/training/'.format(bucket)"
      ],
      "execution_count": null,
      "outputs": []
    },
    {
      "cell_type": "markdown",
      "metadata": {
        "id": "ldvNc5c3BZ3C"
      },
      "source": [
        "# Upload to Google Cloud Storage"
      ]
    },
    {
      "cell_type": "code",
      "metadata": {
        "id": "jCFbKEzmwM3t"
      },
      "source": [
        "%cd /content\n",
        "!gsutil cp -r train/ gs://{bucket}\n",
        "!gsutil cp -r test/ gs://{bucket}\n",
        "!gsutil cp -r valid/ gs://{bucket}\n",
        "!gsutil cp -r deploy/ gs://{bucket}"
      ],
      "execution_count": null,
      "outputs": []
    },
    {
      "cell_type": "markdown",
      "metadata": {
        "id": "Nv8ARpzzzNwh"
      },
      "source": [
        "# Train and test model"
      ]
    },
    {
      "cell_type": "code",
      "metadata": {
        "id": "8Dx_wEykfpuv"
      },
      "source": [
        "!python /content/models/research/object_detection/model_main_tf2.py \\\n",
        "    --pipeline_config_path={pipeline_file} \\\n",
        "    --model_dir={model_dir} \\\n",
        "    --alsologtostderr"
      ],
      "execution_count": null,
      "outputs": []
    },
    {
      "cell_type": "code",
      "metadata": {
        "id": "UrxdYsyu4Lg_"
      },
      "source": [
        "!python /content/models/research/object_detection/model_main_tf2.py \\\n",
        "    --pipeline_config_path={pipeline_file} \\\n",
        "    --model_dir={model_dir} \\\n",
        "    --checkpoint_dir={model_dir}"
      ],
      "execution_count": null,
      "outputs": []
    },
    {
      "cell_type": "code",
      "metadata": {
        "id": "DBXvdA2h46_V"
      },
      "source": [
        "%load_ext tensorboard\n",
        "%tensorboard --logdir {model_dir}"
      ],
      "execution_count": null,
      "outputs": []
    }
  ]
}